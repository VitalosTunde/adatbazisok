{
    "metadata": {
        "kernelspec": {
            "name": "SQL",
            "display_name": "SQL",
            "language": "sql"
        },
        "language_info": {
            "name": "sql",
            "version": ""
        }
    },
    "nbformat_minor": 2,
    "nbformat": 4,
    "cells": [
        {
            "cell_type": "code",
            "source": [
                "\r\n",
                "SELECT sz.Szoba_ID,\r\n",
                "        sz.Ferohely,\r\n",
                "        DENSE_RANK() OVER (ORDER BY count(f.szoba_fk) desc, sz.Ferohely asc)\r\n",
                "FROM Szoba sz left JOIN Foglalas f ON f.szoba_fk = sz.Szoba_Id\r\n",
                "group by sz.Szoba_ID,\r\n",
                "        sz.Ferohely\r\n",
                "order by DENSE_RANK() OVER (\r\n",
                "        ORDER BY count(f.szoba_fk) desc, sz.Ferohely asc)"
            ],
            "metadata": {
                "azdata_cell_guid": "9f483d0f-50d2-4909-b8b9-52826ccbfafe",
                "language": "sql"
            },
            "outputs": [
                {
                    "output_type": "display_data",
                    "data": {
                        "text/html": "(294 rows affected)"
                    },
                    "metadata": {}
                },
                {
                    "output_type": "display_data",
                    "data": {
                        "text/html": "Total execution time: 00:00:00.014"
                    },
                    "metadata": {}
                },
                {
                    "output_type": "execute_result",
                    "metadata": {},
                    "execution_count": 19,
                    "data": {
                        "application/vnd.dataresource+json": {
                            "schema": {
                                "fields": [
                                    {
                                        "name": "Szoba_ID"
                                    },
                                    {
                                        "name": "Ferohely"
                                    },
                                    {
                                        "name": "(No column name)"
                                    }
                                ]
                            },
                            "data": [
                                {
                                    "Szoba_ID": "58",
                                    "Ferohely": "2",
                                    "(No column name)": "1"
                                },
                                {
                                    "Szoba_ID": "182",
                                    "Ferohely": "2",
                                    "(No column name)": "2"
                                },
                                {
                                    "Szoba_ID": "185",
                                    "Ferohely": "3",
                                    "(No column name)": "3"
                                },
                                {
                                    "Szoba_ID": "70",
                                    "Ferohely": "2",
                                    "(No column name)": "4"
                                },
                                {
                                    "Szoba_ID": "94",
                                    "Ferohely": "2",
                                    "(No column name)": "5"
                                },
                                {
                                    "Szoba_ID": "12",
                                    "Ferohely": "2",
                                    "(No column name)": "6"
                                },
                                {
                                    "Szoba_ID": "172",
                                    "Ferohely": "2",
                                    "(No column name)": "6"
                                },
                                {
                                    "Szoba_ID": "35",
                                    "Ferohely": "3",
                                    "(No column name)": "7"
                                },
                                {
                                    "Szoba_ID": "48",
                                    "Ferohely": "3",
                                    "(No column name)": "7"
                                },
                                {
                                    "Szoba_ID": "74",
                                    "Ferohely": "3",
                                    "(No column name)": "7"
                                },
                                {
                                    "Szoba_ID": "122",
                                    "Ferohely": "3",
                                    "(No column name)": "7"
                                },
                                {
                                    "Szoba_ID": "121",
                                    "Ferohely": "2",
                                    "(No column name)": "8"
                                },
                                {
                                    "Szoba_ID": "140",
                                    "Ferohely": "2",
                                    "(No column name)": "8"
                                },
                                {
                                    "Szoba_ID": "110",
                                    "Ferohely": "2",
                                    "(No column name)": "8"
                                },
                                {
                                    "Szoba_ID": "55",
                                    "Ferohely": "2",
                                    "(No column name)": "8"
                                },
                                {
                                    "Szoba_ID": "38",
                                    "Ferohely": "2",
                                    "(No column name)": "8"
                                },
                                {
                                    "Szoba_ID": "1",
                                    "Ferohely": "3",
                                    "(No column name)": "9"
                                },
                                {
                                    "Szoba_ID": "3",
                                    "Ferohely": "3",
                                    "(No column name)": "9"
                                },
                                {
                                    "Szoba_ID": "43",
                                    "Ferohely": "3",
                                    "(No column name)": "9"
                                },
                                {
                                    "Szoba_ID": "83",
                                    "Ferohely": "3",
                                    "(No column name)": "9"
                                },
                                {
                                    "Szoba_ID": "88",
                                    "Ferohely": "3",
                                    "(No column name)": "9"
                                },
                                {
                                    "Szoba_ID": "89",
                                    "Ferohely": "3",
                                    "(No column name)": "9"
                                },
                                {
                                    "Szoba_ID": "117",
                                    "Ferohely": "3",
                                    "(No column name)": "9"
                                },
                                {
                                    "Szoba_ID": "198",
                                    "Ferohely": "3",
                                    "(No column name)": "9"
                                },
                                {
                                    "Szoba_ID": "165",
                                    "Ferohely": "2",
                                    "(No column name)": "10"
                                },
                                {
                                    "Szoba_ID": "149",
                                    "Ferohely": "2",
                                    "(No column name)": "10"
                                },
                                {
                                    "Szoba_ID": "156",
                                    "Ferohely": "2",
                                    "(No column name)": "10"
                                },
                                {
                                    "Szoba_ID": "163",
                                    "Ferohely": "2",
                                    "(No column name)": "10"
                                },
                                {
                                    "Szoba_ID": "118",
                                    "Ferohely": "2",
                                    "(No column name)": "10"
                                },
                                {
                                    "Szoba_ID": "109",
                                    "Ferohely": "2",
                                    "(No column name)": "10"
                                },
                                {
                                    "Szoba_ID": "127",
                                    "Ferohely": "2",
                                    "(No column name)": "10"
                                },
                                {
                                    "Szoba_ID": "139",
                                    "Ferohely": "2",
                                    "(No column name)": "10"
                                },
                                {
                                    "Szoba_ID": "80",
                                    "Ferohely": "2",
                                    "(No column name)": "10"
                                },
                                {
                                    "Szoba_ID": "59",
                                    "Ferohely": "2",
                                    "(No column name)": "10"
                                },
                                {
                                    "Szoba_ID": "39",
                                    "Ferohely": "2",
                                    "(No column name)": "10"
                                },
                                {
                                    "Szoba_ID": "27",
                                    "Ferohely": "3",
                                    "(No column name)": "11"
                                },
                                {
                                    "Szoba_ID": "49",
                                    "Ferohely": "3",
                                    "(No column name)": "11"
                                },
                                {
                                    "Szoba_ID": "96",
                                    "Ferohely": "3",
                                    "(No column name)": "11"
                                },
                                {
                                    "Szoba_ID": "97",
                                    "Ferohely": "3",
                                    "(No column name)": "11"
                                },
                                {
                                    "Szoba_ID": "138",
                                    "Ferohely": "3",
                                    "(No column name)": "11"
                                },
                                {
                                    "Szoba_ID": "143",
                                    "Ferohely": "3",
                                    "(No column name)": "11"
                                },
                                {
                                    "Szoba_ID": "115",
                                    "Ferohely": "3",
                                    "(No column name)": "11"
                                },
                                {
                                    "Szoba_ID": "193",
                                    "Ferohely": "3",
                                    "(No column name)": "11"
                                },
                                {
                                    "Szoba_ID": "187",
                                    "Ferohely": "3",
                                    "(No column name)": "11"
                                },
                                {
                                    "Szoba_ID": "195",
                                    "Ferohely": "2",
                                    "(No column name)": "12"
                                },
                                {
                                    "Szoba_ID": "161",
                                    "Ferohely": "2",
                                    "(No column name)": "12"
                                },
                                {
                                    "Szoba_ID": "150",
                                    "Ferohely": "2",
                                    "(No column name)": "12"
                                },
                                {
                                    "Szoba_ID": "148",
                                    "Ferohely": "2",
                                    "(No column name)": "12"
                                },
                                {
                                    "Szoba_ID": "169",
                                    "Ferohely": "2",
                                    "(No column name)": "12"
                                },
                                {
                                    "Szoba_ID": "106",
                                    "Ferohely": "2",
                                    "(No column name)": "12"
                                },
                                {
                                    "Szoba_ID": "126",
                                    "Ferohely": "2",
                                    "(No column name)": "12"
                                },
                                {
                                    "Szoba_ID": "145",
                                    "Ferohely": "2",
                                    "(No column name)": "12"
                                },
                                {
                                    "Szoba_ID": "141",
                                    "Ferohely": "2",
                                    "(No column name)": "12"
                                },
                                {
                                    "Szoba_ID": "130",
                                    "Ferohely": "2",
                                    "(No column name)": "12"
                                },
                                {
                                    "Szoba_ID": "137",
                                    "Ferohely": "2",
                                    "(No column name)": "12"
                                },
                                {
                                    "Szoba_ID": "78",
                                    "Ferohely": "2",
                                    "(No column name)": "12"
                                },
                                {
                                    "Szoba_ID": "42",
                                    "Ferohely": "2",
                                    "(No column name)": "12"
                                },
                                {
                                    "Szoba_ID": "64",
                                    "Ferohely": "2",
                                    "(No column name)": "12"
                                },
                                {
                                    "Szoba_ID": "67",
                                    "Ferohely": "2",
                                    "(No column name)": "12"
                                },
                                {
                                    "Szoba_ID": "28",
                                    "Ferohely": "2",
                                    "(No column name)": "12"
                                },
                                {
                                    "Szoba_ID": "29",
                                    "Ferohely": "2",
                                    "(No column name)": "12"
                                },
                                {
                                    "Szoba_ID": "19",
                                    "Ferohely": "2",
                                    "(No column name)": "12"
                                },
                                {
                                    "Szoba_ID": "33",
                                    "Ferohely": "2",
                                    "(No column name)": "12"
                                },
                                {
                                    "Szoba_ID": "4",
                                    "Ferohely": "2",
                                    "(No column name)": "12"
                                },
                                {
                                    "Szoba_ID": "7",
                                    "Ferohely": "2",
                                    "(No column name)": "12"
                                },
                                {
                                    "Szoba_ID": "15",
                                    "Ferohely": "2",
                                    "(No column name)": "12"
                                },
                                {
                                    "Szoba_ID": "17",
                                    "Ferohely": "3",
                                    "(No column name)": "13"
                                },
                                {
                                    "Szoba_ID": "18",
                                    "Ferohely": "3",
                                    "(No column name)": "13"
                                },
                                {
                                    "Szoba_ID": "6",
                                    "Ferohely": "3",
                                    "(No column name)": "13"
                                },
                                {
                                    "Szoba_ID": "9",
                                    "Ferohely": "3",
                                    "(No column name)": "13"
                                },
                                {
                                    "Szoba_ID": "22",
                                    "Ferohely": "3",
                                    "(No column name)": "13"
                                },
                                {
                                    "Szoba_ID": "36",
                                    "Ferohely": "3",
                                    "(No column name)": "13"
                                },
                                {
                                    "Szoba_ID": "44",
                                    "Ferohely": "3",
                                    "(No column name)": "13"
                                },
                                {
                                    "Szoba_ID": "54",
                                    "Ferohely": "3",
                                    "(No column name)": "13"
                                },
                                {
                                    "Szoba_ID": "77",
                                    "Ferohely": "3",
                                    "(No column name)": "13"
                                },
                                {
                                    "Szoba_ID": "82",
                                    "Ferohely": "3",
                                    "(No column name)": "13"
                                },
                                {
                                    "Szoba_ID": "92",
                                    "Ferohely": "3",
                                    "(No column name)": "13"
                                },
                                {
                                    "Szoba_ID": "132",
                                    "Ferohely": "3",
                                    "(No column name)": "13"
                                },
                                {
                                    "Szoba_ID": "133",
                                    "Ferohely": "3",
                                    "(No column name)": "13"
                                },
                                {
                                    "Szoba_ID": "134",
                                    "Ferohely": "3",
                                    "(No column name)": "13"
                                },
                                {
                                    "Szoba_ID": "146",
                                    "Ferohely": "3",
                                    "(No column name)": "13"
                                },
                                {
                                    "Szoba_ID": "124",
                                    "Ferohely": "3",
                                    "(No column name)": "13"
                                },
                                {
                                    "Szoba_ID": "120",
                                    "Ferohely": "3",
                                    "(No column name)": "13"
                                },
                                {
                                    "Szoba_ID": "181",
                                    "Ferohely": "3",
                                    "(No column name)": "13"
                                },
                                {
                                    "Szoba_ID": "176",
                                    "Ferohely": "3",
                                    "(No column name)": "13"
                                },
                                {
                                    "Szoba_ID": "197",
                                    "Ferohely": "3",
                                    "(No column name)": "13"
                                },
                                {
                                    "Szoba_ID": "188",
                                    "Ferohely": "3",
                                    "(No column name)": "13"
                                },
                                {
                                    "Szoba_ID": "189",
                                    "Ferohely": "2",
                                    "(No column name)": "14"
                                },
                                {
                                    "Szoba_ID": "190",
                                    "Ferohely": "2",
                                    "(No column name)": "14"
                                },
                                {
                                    "Szoba_ID": "191",
                                    "Ferohely": "2",
                                    "(No column name)": "14"
                                },
                                {
                                    "Szoba_ID": "170",
                                    "Ferohely": "2",
                                    "(No column name)": "14"
                                },
                                {
                                    "Szoba_ID": "171",
                                    "Ferohely": "2",
                                    "(No column name)": "14"
                                },
                                {
                                    "Szoba_ID": "168",
                                    "Ferohely": "2",
                                    "(No column name)": "14"
                                },
                                {
                                    "Szoba_ID": "175",
                                    "Ferohely": "2",
                                    "(No column name)": "14"
                                },
                                {
                                    "Szoba_ID": "157",
                                    "Ferohely": "2",
                                    "(No column name)": "14"
                                },
                                {
                                    "Szoba_ID": "164",
                                    "Ferohely": "2",
                                    "(No column name)": "14"
                                },
                                {
                                    "Szoba_ID": "154",
                                    "Ferohely": "2",
                                    "(No column name)": "14"
                                },
                                {
                                    "Szoba_ID": "119",
                                    "Ferohely": "2",
                                    "(No column name)": "14"
                                },
                                {
                                    "Szoba_ID": "107",
                                    "Ferohely": "2",
                                    "(No column name)": "14"
                                },
                                {
                                    "Szoba_ID": "128",
                                    "Ferohely": "2",
                                    "(No column name)": "14"
                                },
                                {
                                    "Szoba_ID": "131",
                                    "Ferohely": "2",
                                    "(No column name)": "14"
                                },
                                {
                                    "Szoba_ID": "99",
                                    "Ferohely": "2",
                                    "(No column name)": "14"
                                },
                                {
                                    "Szoba_ID": "111",
                                    "Ferohely": "2",
                                    "(No column name)": "14"
                                },
                                {
                                    "Szoba_ID": "81",
                                    "Ferohely": "2",
                                    "(No column name)": "14"
                                },
                                {
                                    "Szoba_ID": "86",
                                    "Ferohely": "2",
                                    "(No column name)": "14"
                                },
                                {
                                    "Szoba_ID": "52",
                                    "Ferohely": "2",
                                    "(No column name)": "14"
                                },
                                {
                                    "Szoba_ID": "45",
                                    "Ferohely": "2",
                                    "(No column name)": "14"
                                },
                                {
                                    "Szoba_ID": "62",
                                    "Ferohely": "2",
                                    "(No column name)": "14"
                                },
                                {
                                    "Szoba_ID": "61",
                                    "Ferohely": "3",
                                    "(No column name)": "15"
                                },
                                {
                                    "Szoba_ID": "51",
                                    "Ferohely": "3",
                                    "(No column name)": "15"
                                },
                                {
                                    "Szoba_ID": "20",
                                    "Ferohely": "3",
                                    "(No column name)": "15"
                                },
                                {
                                    "Szoba_ID": "8",
                                    "Ferohely": "3",
                                    "(No column name)": "15"
                                },
                                {
                                    "Szoba_ID": "16",
                                    "Ferohely": "3",
                                    "(No column name)": "15"
                                },
                                {
                                    "Szoba_ID": "87",
                                    "Ferohely": "3",
                                    "(No column name)": "15"
                                },
                                {
                                    "Szoba_ID": "79",
                                    "Ferohely": "3",
                                    "(No column name)": "15"
                                },
                                {
                                    "Szoba_ID": "112",
                                    "Ferohely": "3",
                                    "(No column name)": "15"
                                },
                                {
                                    "Szoba_ID": "113",
                                    "Ferohely": "3",
                                    "(No column name)": "15"
                                },
                                {
                                    "Szoba_ID": "93",
                                    "Ferohely": "3",
                                    "(No column name)": "15"
                                },
                                {
                                    "Szoba_ID": "144",
                                    "Ferohely": "3",
                                    "(No column name)": "15"
                                },
                                {
                                    "Szoba_ID": "123",
                                    "Ferohely": "3",
                                    "(No column name)": "15"
                                },
                                {
                                    "Szoba_ID": "155",
                                    "Ferohely": "3",
                                    "(No column name)": "15"
                                },
                                {
                                    "Szoba_ID": "153",
                                    "Ferohely": "3",
                                    "(No column name)": "15"
                                },
                                {
                                    "Szoba_ID": "160",
                                    "Ferohely": "3",
                                    "(No column name)": "15"
                                },
                                {
                                    "Szoba_ID": "152",
                                    "Ferohely": "2",
                                    "(No column name)": "16"
                                },
                                {
                                    "Szoba_ID": "173",
                                    "Ferohely": "2",
                                    "(No column name)": "16"
                                },
                                {
                                    "Szoba_ID": "174",
                                    "Ferohely": "2",
                                    "(No column name)": "16"
                                },
                                {
                                    "Szoba_ID": "186",
                                    "Ferohely": "2",
                                    "(No column name)": "16"
                                },
                                {
                                    "Szoba_ID": "184",
                                    "Ferohely": "2",
                                    "(No column name)": "16"
                                },
                                {
                                    "Szoba_ID": "196",
                                    "Ferohely": "2",
                                    "(No column name)": "16"
                                },
                                {
                                    "Szoba_ID": "129",
                                    "Ferohely": "2",
                                    "(No column name)": "16"
                                },
                                {
                                    "Szoba_ID": "100",
                                    "Ferohely": "2",
                                    "(No column name)": "16"
                                },
                                {
                                    "Szoba_ID": "114",
                                    "Ferohely": "2",
                                    "(No column name)": "16"
                                },
                                {
                                    "Szoba_ID": "98",
                                    "Ferohely": "2",
                                    "(No column name)": "16"
                                },
                                {
                                    "Szoba_ID": "103",
                                    "Ferohely": "2",
                                    "(No column name)": "16"
                                },
                                {
                                    "Szoba_ID": "85",
                                    "Ferohely": "2",
                                    "(No column name)": "16"
                                },
                                {
                                    "Szoba_ID": "91",
                                    "Ferohely": "2",
                                    "(No column name)": "16"
                                },
                                {
                                    "Szoba_ID": "11",
                                    "Ferohely": "2",
                                    "(No column name)": "16"
                                },
                                {
                                    "Szoba_ID": "5",
                                    "Ferohely": "2",
                                    "(No column name)": "16"
                                },
                                {
                                    "Szoba_ID": "21",
                                    "Ferohely": "2",
                                    "(No column name)": "16"
                                },
                                {
                                    "Szoba_ID": "50",
                                    "Ferohely": "2",
                                    "(No column name)": "16"
                                },
                                {
                                    "Szoba_ID": "57",
                                    "Ferohely": "2",
                                    "(No column name)": "16"
                                },
                                {
                                    "Szoba_ID": "63",
                                    "Ferohely": "2",
                                    "(No column name)": "16"
                                },
                                {
                                    "Szoba_ID": "72",
                                    "Ferohely": "2",
                                    "(No column name)": "16"
                                },
                                {
                                    "Szoba_ID": "73",
                                    "Ferohely": "2",
                                    "(No column name)": "16"
                                },
                                {
                                    "Szoba_ID": "66",
                                    "Ferohely": "3",
                                    "(No column name)": "17"
                                },
                                {
                                    "Szoba_ID": "69",
                                    "Ferohely": "3",
                                    "(No column name)": "17"
                                },
                                {
                                    "Szoba_ID": "46",
                                    "Ferohely": "3",
                                    "(No column name)": "17"
                                },
                                {
                                    "Szoba_ID": "34",
                                    "Ferohely": "3",
                                    "(No column name)": "17"
                                },
                                {
                                    "Szoba_ID": "40",
                                    "Ferohely": "3",
                                    "(No column name)": "17"
                                },
                                {
                                    "Szoba_ID": "2",
                                    "Ferohely": "3",
                                    "(No column name)": "17"
                                },
                                {
                                    "Szoba_ID": "10",
                                    "Ferohely": "3",
                                    "(No column name)": "17"
                                },
                                {
                                    "Szoba_ID": "13",
                                    "Ferohely": "3",
                                    "(No column name)": "17"
                                },
                                {
                                    "Szoba_ID": "90",
                                    "Ferohely": "3",
                                    "(No column name)": "17"
                                },
                                {
                                    "Szoba_ID": "84",
                                    "Ferohely": "3",
                                    "(No column name)": "17"
                                },
                                {
                                    "Szoba_ID": "104",
                                    "Ferohely": "3",
                                    "(No column name)": "17"
                                },
                                {
                                    "Szoba_ID": "95",
                                    "Ferohely": "3",
                                    "(No column name)": "17"
                                },
                                {
                                    "Szoba_ID": "177",
                                    "Ferohely": "3",
                                    "(No column name)": "17"
                                },
                                {
                                    "Szoba_ID": "178",
                                    "Ferohely": "3",
                                    "(No column name)": "17"
                                },
                                {
                                    "Szoba_ID": "183",
                                    "Ferohely": "3",
                                    "(No column name)": "17"
                                },
                                {
                                    "Szoba_ID": "180",
                                    "Ferohely": "2",
                                    "(No column name)": "18"
                                },
                                {
                                    "Szoba_ID": "166",
                                    "Ferohely": "2",
                                    "(No column name)": "18"
                                },
                                {
                                    "Szoba_ID": "151",
                                    "Ferohely": "2",
                                    "(No column name)": "18"
                                },
                                {
                                    "Szoba_ID": "158",
                                    "Ferohely": "2",
                                    "(No column name)": "18"
                                },
                                {
                                    "Szoba_ID": "101",
                                    "Ferohely": "2",
                                    "(No column name)": "18"
                                },
                                {
                                    "Szoba_ID": "75",
                                    "Ferohely": "2",
                                    "(No column name)": "18"
                                },
                                {
                                    "Szoba_ID": "76",
                                    "Ferohely": "2",
                                    "(No column name)": "18"
                                },
                                {
                                    "Szoba_ID": "136",
                                    "Ferohely": "2",
                                    "(No column name)": "18"
                                },
                                {
                                    "Szoba_ID": "23",
                                    "Ferohely": "2",
                                    "(No column name)": "18"
                                },
                                {
                                    "Szoba_ID": "37",
                                    "Ferohely": "2",
                                    "(No column name)": "18"
                                },
                                {
                                    "Szoba_ID": "68",
                                    "Ferohely": "2",
                                    "(No column name)": "18"
                                },
                                {
                                    "Szoba_ID": "71",
                                    "Ferohely": "3",
                                    "(No column name)": "19"
                                },
                                {
                                    "Szoba_ID": "30",
                                    "Ferohely": "3",
                                    "(No column name)": "19"
                                },
                                {
                                    "Szoba_ID": "31",
                                    "Ferohely": "3",
                                    "(No column name)": "19"
                                },
                                {
                                    "Szoba_ID": "14",
                                    "Ferohely": "3",
                                    "(No column name)": "19"
                                },
                                {
                                    "Szoba_ID": "135",
                                    "Ferohely": "3",
                                    "(No column name)": "19"
                                },
                                {
                                    "Szoba_ID": "162",
                                    "Ferohely": "3",
                                    "(No column name)": "19"
                                },
                                {
                                    "Szoba_ID": "179",
                                    "Ferohely": "3",
                                    "(No column name)": "19"
                                },
                                {
                                    "Szoba_ID": "24",
                                    "Ferohely": "4",
                                    "(No column name)": "20"
                                },
                                {
                                    "Szoba_ID": "26",
                                    "Ferohely": "2",
                                    "(No column name)": "21"
                                },
                                {
                                    "Szoba_ID": "47",
                                    "Ferohely": "2",
                                    "(No column name)": "21"
                                },
                                {
                                    "Szoba_ID": "53",
                                    "Ferohely": "2",
                                    "(No column name)": "21"
                                },
                                {
                                    "Szoba_ID": "56",
                                    "Ferohely": "2",
                                    "(No column name)": "21"
                                },
                                {
                                    "Szoba_ID": "108",
                                    "Ferohely": "2",
                                    "(No column name)": "21"
                                },
                                {
                                    "Szoba_ID": "102",
                                    "Ferohely": "2",
                                    "(No column name)": "21"
                                },
                                {
                                    "Szoba_ID": "105",
                                    "Ferohely": "2",
                                    "(No column name)": "21"
                                },
                                {
                                    "Szoba_ID": "192",
                                    "Ferohely": "2",
                                    "(No column name)": "21"
                                },
                                {
                                    "Szoba_ID": "167",
                                    "Ferohely": "3",
                                    "(No column name)": "22"
                                },
                                {
                                    "Szoba_ID": "116",
                                    "Ferohely": "3",
                                    "(No column name)": "22"
                                },
                                {
                                    "Szoba_ID": "142",
                                    "Ferohely": "3",
                                    "(No column name)": "22"
                                },
                                {
                                    "Szoba_ID": "25",
                                    "Ferohely": "3",
                                    "(No column name)": "22"
                                },
                                {
                                    "Szoba_ID": "41",
                                    "Ferohely": "3",
                                    "(No column name)": "22"
                                },
                                {
                                    "Szoba_ID": "32",
                                    "Ferohely": "2",
                                    "(No column name)": "23"
                                },
                                {
                                    "Szoba_ID": "65",
                                    "Ferohely": "2",
                                    "(No column name)": "23"
                                },
                                {
                                    "Szoba_ID": "147",
                                    "Ferohely": "2",
                                    "(No column name)": "23"
                                },
                                {
                                    "Szoba_ID": "125",
                                    "Ferohely": "2",
                                    "(No column name)": "23"
                                },
                                {
                                    "Szoba_ID": "194",
                                    "Ferohely": "2",
                                    "(No column name)": "23"
                                },
                                {
                                    "Szoba_ID": "60",
                                    "Ferohely": "3",
                                    "(No column name)": "24"
                                },
                                {
                                    "Szoba_ID": "261",
                                    "Ferohely": "1",
                                    "(No column name)": "25"
                                },
                                {
                                    "Szoba_ID": "262",
                                    "Ferohely": "1",
                                    "(No column name)": "25"
                                },
                                {
                                    "Szoba_ID": "263",
                                    "Ferohely": "2",
                                    "(No column name)": "26"
                                },
                                {
                                    "Szoba_ID": "266",
                                    "Ferohely": "2",
                                    "(No column name)": "26"
                                },
                                {
                                    "Szoba_ID": "267",
                                    "Ferohely": "2",
                                    "(No column name)": "26"
                                },
                                {
                                    "Szoba_ID": "268",
                                    "Ferohely": "2",
                                    "(No column name)": "26"
                                },
                                {
                                    "Szoba_ID": "269",
                                    "Ferohely": "2",
                                    "(No column name)": "26"
                                },
                                {
                                    "Szoba_ID": "275",
                                    "Ferohely": "2",
                                    "(No column name)": "26"
                                },
                                {
                                    "Szoba_ID": "276",
                                    "Ferohely": "2",
                                    "(No column name)": "26"
                                },
                                {
                                    "Szoba_ID": "277",
                                    "Ferohely": "2",
                                    "(No column name)": "26"
                                },
                                {
                                    "Szoba_ID": "273",
                                    "Ferohely": "2",
                                    "(No column name)": "26"
                                },
                                {
                                    "Szoba_ID": "279",
                                    "Ferohely": "2",
                                    "(No column name)": "26"
                                },
                                {
                                    "Szoba_ID": "281",
                                    "Ferohely": "2",
                                    "(No column name)": "26"
                                },
                                {
                                    "Szoba_ID": "282",
                                    "Ferohely": "2",
                                    "(No column name)": "26"
                                },
                                {
                                    "Szoba_ID": "283",
                                    "Ferohely": "2",
                                    "(No column name)": "26"
                                },
                                {
                                    "Szoba_ID": "284",
                                    "Ferohely": "2",
                                    "(No column name)": "26"
                                },
                                {
                                    "Szoba_ID": "285",
                                    "Ferohely": "2",
                                    "(No column name)": "26"
                                },
                                {
                                    "Szoba_ID": "290",
                                    "Ferohely": "2",
                                    "(No column name)": "26"
                                },
                                {
                                    "Szoba_ID": "291",
                                    "Ferohely": "2",
                                    "(No column name)": "26"
                                },
                                {
                                    "Szoba_ID": "292",
                                    "Ferohely": "2",
                                    "(No column name)": "26"
                                },
                                {
                                    "Szoba_ID": "293",
                                    "Ferohely": "2",
                                    "(No column name)": "26"
                                },
                                {
                                    "Szoba_ID": "288",
                                    "Ferohely": "2",
                                    "(No column name)": "26"
                                },
                                {
                                    "Szoba_ID": "222",
                                    "Ferohely": "2",
                                    "(No column name)": "26"
                                },
                                {
                                    "Szoba_ID": "223",
                                    "Ferohely": "2",
                                    "(No column name)": "26"
                                },
                                {
                                    "Szoba_ID": "224",
                                    "Ferohely": "2",
                                    "(No column name)": "26"
                                },
                                {
                                    "Szoba_ID": "225",
                                    "Ferohely": "2",
                                    "(No column name)": "26"
                                },
                                {
                                    "Szoba_ID": "227",
                                    "Ferohely": "2",
                                    "(No column name)": "26"
                                },
                                {
                                    "Szoba_ID": "229",
                                    "Ferohely": "2",
                                    "(No column name)": "26"
                                },
                                {
                                    "Szoba_ID": "231",
                                    "Ferohely": "2",
                                    "(No column name)": "26"
                                },
                                {
                                    "Szoba_ID": "232",
                                    "Ferohely": "2",
                                    "(No column name)": "26"
                                },
                                {
                                    "Szoba_ID": "237",
                                    "Ferohely": "2",
                                    "(No column name)": "26"
                                },
                                {
                                    "Szoba_ID": "239",
                                    "Ferohely": "2",
                                    "(No column name)": "26"
                                },
                                {
                                    "Szoba_ID": "241",
                                    "Ferohely": "2",
                                    "(No column name)": "26"
                                },
                                {
                                    "Szoba_ID": "242",
                                    "Ferohely": "2",
                                    "(No column name)": "26"
                                },
                                {
                                    "Szoba_ID": "243",
                                    "Ferohely": "2",
                                    "(No column name)": "26"
                                },
                                {
                                    "Szoba_ID": "244",
                                    "Ferohely": "2",
                                    "(No column name)": "26"
                                },
                                {
                                    "Szoba_ID": "245",
                                    "Ferohely": "2",
                                    "(No column name)": "26"
                                },
                                {
                                    "Szoba_ID": "246",
                                    "Ferohely": "2",
                                    "(No column name)": "26"
                                },
                                {
                                    "Szoba_ID": "247",
                                    "Ferohely": "2",
                                    "(No column name)": "26"
                                },
                                {
                                    "Szoba_ID": "248",
                                    "Ferohely": "2",
                                    "(No column name)": "26"
                                },
                                {
                                    "Szoba_ID": "249",
                                    "Ferohely": "2",
                                    "(No column name)": "26"
                                },
                                {
                                    "Szoba_ID": "253",
                                    "Ferohely": "2",
                                    "(No column name)": "26"
                                },
                                {
                                    "Szoba_ID": "254",
                                    "Ferohely": "2",
                                    "(No column name)": "26"
                                },
                                {
                                    "Szoba_ID": "257",
                                    "Ferohely": "2",
                                    "(No column name)": "26"
                                },
                                {
                                    "Szoba_ID": "258",
                                    "Ferohely": "2",
                                    "(No column name)": "26"
                                },
                                {
                                    "Szoba_ID": "259",
                                    "Ferohely": "2",
                                    "(No column name)": "26"
                                },
                                {
                                    "Szoba_ID": "260",
                                    "Ferohely": "2",
                                    "(No column name)": "26"
                                },
                                {
                                    "Szoba_ID": "200",
                                    "Ferohely": "2",
                                    "(No column name)": "26"
                                },
                                {
                                    "Szoba_ID": "215",
                                    "Ferohely": "2",
                                    "(No column name)": "26"
                                },
                                {
                                    "Szoba_ID": "217",
                                    "Ferohely": "2",
                                    "(No column name)": "26"
                                },
                                {
                                    "Szoba_ID": "219",
                                    "Ferohely": "2",
                                    "(No column name)": "26"
                                },
                                {
                                    "Szoba_ID": "206",
                                    "Ferohely": "2",
                                    "(No column name)": "26"
                                },
                                {
                                    "Szoba_ID": "207",
                                    "Ferohely": "2",
                                    "(No column name)": "26"
                                },
                                {
                                    "Szoba_ID": "208",
                                    "Ferohely": "2",
                                    "(No column name)": "26"
                                },
                                {
                                    "Szoba_ID": "210",
                                    "Ferohely": "2",
                                    "(No column name)": "26"
                                },
                                {
                                    "Szoba_ID": "211",
                                    "Ferohely": "2",
                                    "(No column name)": "26"
                                },
                                {
                                    "Szoba_ID": "212",
                                    "Ferohely": "3",
                                    "(No column name)": "27"
                                },
                                {
                                    "Szoba_ID": "213",
                                    "Ferohely": "3",
                                    "(No column name)": "27"
                                },
                                {
                                    "Szoba_ID": "214",
                                    "Ferohely": "3",
                                    "(No column name)": "27"
                                },
                                {
                                    "Szoba_ID": "209",
                                    "Ferohely": "3",
                                    "(No column name)": "27"
                                },
                                {
                                    "Szoba_ID": "220",
                                    "Ferohely": "3",
                                    "(No column name)": "27"
                                },
                                {
                                    "Szoba_ID": "221",
                                    "Ferohely": "3",
                                    "(No column name)": "27"
                                },
                                {
                                    "Szoba_ID": "218",
                                    "Ferohely": "3",
                                    "(No column name)": "27"
                                },
                                {
                                    "Szoba_ID": "216",
                                    "Ferohely": "3",
                                    "(No column name)": "27"
                                },
                                {
                                    "Szoba_ID": "199",
                                    "Ferohely": "3",
                                    "(No column name)": "27"
                                },
                                {
                                    "Szoba_ID": "201",
                                    "Ferohely": "3",
                                    "(No column name)": "27"
                                },
                                {
                                    "Szoba_ID": "202",
                                    "Ferohely": "3",
                                    "(No column name)": "27"
                                },
                                {
                                    "Szoba_ID": "203",
                                    "Ferohely": "3",
                                    "(No column name)": "27"
                                },
                                {
                                    "Szoba_ID": "204",
                                    "Ferohely": "3",
                                    "(No column name)": "27"
                                },
                                {
                                    "Szoba_ID": "205",
                                    "Ferohely": "3",
                                    "(No column name)": "27"
                                },
                                {
                                    "Szoba_ID": "159",
                                    "Ferohely": "3",
                                    "(No column name)": "27"
                                },
                                {
                                    "Szoba_ID": "255",
                                    "Ferohely": "3",
                                    "(No column name)": "27"
                                },
                                {
                                    "Szoba_ID": "256",
                                    "Ferohely": "3",
                                    "(No column name)": "27"
                                },
                                {
                                    "Szoba_ID": "250",
                                    "Ferohely": "3",
                                    "(No column name)": "27"
                                },
                                {
                                    "Szoba_ID": "251",
                                    "Ferohely": "3",
                                    "(No column name)": "27"
                                },
                                {
                                    "Szoba_ID": "252",
                                    "Ferohely": "3",
                                    "(No column name)": "27"
                                },
                                {
                                    "Szoba_ID": "240",
                                    "Ferohely": "3",
                                    "(No column name)": "27"
                                },
                                {
                                    "Szoba_ID": "238",
                                    "Ferohely": "3",
                                    "(No column name)": "27"
                                },
                                {
                                    "Szoba_ID": "233",
                                    "Ferohely": "3",
                                    "(No column name)": "27"
                                },
                                {
                                    "Szoba_ID": "234",
                                    "Ferohely": "3",
                                    "(No column name)": "27"
                                },
                                {
                                    "Szoba_ID": "235",
                                    "Ferohely": "3",
                                    "(No column name)": "27"
                                },
                                {
                                    "Szoba_ID": "236",
                                    "Ferohely": "3",
                                    "(No column name)": "27"
                                },
                                {
                                    "Szoba_ID": "230",
                                    "Ferohely": "3",
                                    "(No column name)": "27"
                                },
                                {
                                    "Szoba_ID": "228",
                                    "Ferohely": "3",
                                    "(No column name)": "27"
                                },
                                {
                                    "Szoba_ID": "226",
                                    "Ferohely": "3",
                                    "(No column name)": "27"
                                },
                                {
                                    "Szoba_ID": "289",
                                    "Ferohely": "3",
                                    "(No column name)": "27"
                                },
                                {
                                    "Szoba_ID": "294",
                                    "Ferohely": "3",
                                    "(No column name)": "27"
                                },
                                {
                                    "Szoba_ID": "286",
                                    "Ferohely": "3",
                                    "(No column name)": "27"
                                },
                                {
                                    "Szoba_ID": "287",
                                    "Ferohely": "3",
                                    "(No column name)": "27"
                                },
                                {
                                    "Szoba_ID": "280",
                                    "Ferohely": "3",
                                    "(No column name)": "27"
                                },
                                {
                                    "Szoba_ID": "274",
                                    "Ferohely": "3",
                                    "(No column name)": "27"
                                },
                                {
                                    "Szoba_ID": "278",
                                    "Ferohely": "3",
                                    "(No column name)": "27"
                                },
                                {
                                    "Szoba_ID": "270",
                                    "Ferohely": "3",
                                    "(No column name)": "27"
                                },
                                {
                                    "Szoba_ID": "271",
                                    "Ferohely": "3",
                                    "(No column name)": "27"
                                },
                                {
                                    "Szoba_ID": "272",
                                    "Ferohely": "3",
                                    "(No column name)": "27"
                                },
                                {
                                    "Szoba_ID": "264",
                                    "Ferohely": "3",
                                    "(No column name)": "27"
                                },
                                {
                                    "Szoba_ID": "265",
                                    "Ferohely": "3",
                                    "(No column name)": "27"
                                }
                            ]
                        },
                        "text/html": [
                            "<table>",
                            "<tr><th>Szoba_ID</th><th>Ferohely</th><th>(No column name)</th></tr>",
                            "<tr><td>58</td><td>2</td><td>1</td></tr>",
                            "<tr><td>182</td><td>2</td><td>2</td></tr>",
                            "<tr><td>185</td><td>3</td><td>3</td></tr>",
                            "<tr><td>70</td><td>2</td><td>4</td></tr>",
                            "<tr><td>94</td><td>2</td><td>5</td></tr>",
                            "<tr><td>12</td><td>2</td><td>6</td></tr>",
                            "<tr><td>172</td><td>2</td><td>6</td></tr>",
                            "<tr><td>35</td><td>3</td><td>7</td></tr>",
                            "<tr><td>48</td><td>3</td><td>7</td></tr>",
                            "<tr><td>74</td><td>3</td><td>7</td></tr>",
                            "<tr><td>122</td><td>3</td><td>7</td></tr>",
                            "<tr><td>121</td><td>2</td><td>8</td></tr>",
                            "<tr><td>140</td><td>2</td><td>8</td></tr>",
                            "<tr><td>110</td><td>2</td><td>8</td></tr>",
                            "<tr><td>55</td><td>2</td><td>8</td></tr>",
                            "<tr><td>38</td><td>2</td><td>8</td></tr>",
                            "<tr><td>1</td><td>3</td><td>9</td></tr>",
                            "<tr><td>3</td><td>3</td><td>9</td></tr>",
                            "<tr><td>43</td><td>3</td><td>9</td></tr>",
                            "<tr><td>83</td><td>3</td><td>9</td></tr>",
                            "<tr><td>88</td><td>3</td><td>9</td></tr>",
                            "<tr><td>89</td><td>3</td><td>9</td></tr>",
                            "<tr><td>117</td><td>3</td><td>9</td></tr>",
                            "<tr><td>198</td><td>3</td><td>9</td></tr>",
                            "<tr><td>165</td><td>2</td><td>10</td></tr>",
                            "<tr><td>149</td><td>2</td><td>10</td></tr>",
                            "<tr><td>156</td><td>2</td><td>10</td></tr>",
                            "<tr><td>163</td><td>2</td><td>10</td></tr>",
                            "<tr><td>118</td><td>2</td><td>10</td></tr>",
                            "<tr><td>109</td><td>2</td><td>10</td></tr>",
                            "<tr><td>127</td><td>2</td><td>10</td></tr>",
                            "<tr><td>139</td><td>2</td><td>10</td></tr>",
                            "<tr><td>80</td><td>2</td><td>10</td></tr>",
                            "<tr><td>59</td><td>2</td><td>10</td></tr>",
                            "<tr><td>39</td><td>2</td><td>10</td></tr>",
                            "<tr><td>27</td><td>3</td><td>11</td></tr>",
                            "<tr><td>49</td><td>3</td><td>11</td></tr>",
                            "<tr><td>96</td><td>3</td><td>11</td></tr>",
                            "<tr><td>97</td><td>3</td><td>11</td></tr>",
                            "<tr><td>138</td><td>3</td><td>11</td></tr>",
                            "<tr><td>143</td><td>3</td><td>11</td></tr>",
                            "<tr><td>115</td><td>3</td><td>11</td></tr>",
                            "<tr><td>193</td><td>3</td><td>11</td></tr>",
                            "<tr><td>187</td><td>3</td><td>11</td></tr>",
                            "<tr><td>195</td><td>2</td><td>12</td></tr>",
                            "<tr><td>161</td><td>2</td><td>12</td></tr>",
                            "<tr><td>150</td><td>2</td><td>12</td></tr>",
                            "<tr><td>148</td><td>2</td><td>12</td></tr>",
                            "<tr><td>169</td><td>2</td><td>12</td></tr>",
                            "<tr><td>106</td><td>2</td><td>12</td></tr>",
                            "<tr><td>126</td><td>2</td><td>12</td></tr>",
                            "<tr><td>145</td><td>2</td><td>12</td></tr>",
                            "<tr><td>141</td><td>2</td><td>12</td></tr>",
                            "<tr><td>130</td><td>2</td><td>12</td></tr>",
                            "<tr><td>137</td><td>2</td><td>12</td></tr>",
                            "<tr><td>78</td><td>2</td><td>12</td></tr>",
                            "<tr><td>42</td><td>2</td><td>12</td></tr>",
                            "<tr><td>64</td><td>2</td><td>12</td></tr>",
                            "<tr><td>67</td><td>2</td><td>12</td></tr>",
                            "<tr><td>28</td><td>2</td><td>12</td></tr>",
                            "<tr><td>29</td><td>2</td><td>12</td></tr>",
                            "<tr><td>19</td><td>2</td><td>12</td></tr>",
                            "<tr><td>33</td><td>2</td><td>12</td></tr>",
                            "<tr><td>4</td><td>2</td><td>12</td></tr>",
                            "<tr><td>7</td><td>2</td><td>12</td></tr>",
                            "<tr><td>15</td><td>2</td><td>12</td></tr>",
                            "<tr><td>17</td><td>3</td><td>13</td></tr>",
                            "<tr><td>18</td><td>3</td><td>13</td></tr>",
                            "<tr><td>6</td><td>3</td><td>13</td></tr>",
                            "<tr><td>9</td><td>3</td><td>13</td></tr>",
                            "<tr><td>22</td><td>3</td><td>13</td></tr>",
                            "<tr><td>36</td><td>3</td><td>13</td></tr>",
                            "<tr><td>44</td><td>3</td><td>13</td></tr>",
                            "<tr><td>54</td><td>3</td><td>13</td></tr>",
                            "<tr><td>77</td><td>3</td><td>13</td></tr>",
                            "<tr><td>82</td><td>3</td><td>13</td></tr>",
                            "<tr><td>92</td><td>3</td><td>13</td></tr>",
                            "<tr><td>132</td><td>3</td><td>13</td></tr>",
                            "<tr><td>133</td><td>3</td><td>13</td></tr>",
                            "<tr><td>134</td><td>3</td><td>13</td></tr>",
                            "<tr><td>146</td><td>3</td><td>13</td></tr>",
                            "<tr><td>124</td><td>3</td><td>13</td></tr>",
                            "<tr><td>120</td><td>3</td><td>13</td></tr>",
                            "<tr><td>181</td><td>3</td><td>13</td></tr>",
                            "<tr><td>176</td><td>3</td><td>13</td></tr>",
                            "<tr><td>197</td><td>3</td><td>13</td></tr>",
                            "<tr><td>188</td><td>3</td><td>13</td></tr>",
                            "<tr><td>189</td><td>2</td><td>14</td></tr>",
                            "<tr><td>190</td><td>2</td><td>14</td></tr>",
                            "<tr><td>191</td><td>2</td><td>14</td></tr>",
                            "<tr><td>170</td><td>2</td><td>14</td></tr>",
                            "<tr><td>171</td><td>2</td><td>14</td></tr>",
                            "<tr><td>168</td><td>2</td><td>14</td></tr>",
                            "<tr><td>175</td><td>2</td><td>14</td></tr>",
                            "<tr><td>157</td><td>2</td><td>14</td></tr>",
                            "<tr><td>164</td><td>2</td><td>14</td></tr>",
                            "<tr><td>154</td><td>2</td><td>14</td></tr>",
                            "<tr><td>119</td><td>2</td><td>14</td></tr>",
                            "<tr><td>107</td><td>2</td><td>14</td></tr>",
                            "<tr><td>128</td><td>2</td><td>14</td></tr>",
                            "<tr><td>131</td><td>2</td><td>14</td></tr>",
                            "<tr><td>99</td><td>2</td><td>14</td></tr>",
                            "<tr><td>111</td><td>2</td><td>14</td></tr>",
                            "<tr><td>81</td><td>2</td><td>14</td></tr>",
                            "<tr><td>86</td><td>2</td><td>14</td></tr>",
                            "<tr><td>52</td><td>2</td><td>14</td></tr>",
                            "<tr><td>45</td><td>2</td><td>14</td></tr>",
                            "<tr><td>62</td><td>2</td><td>14</td></tr>",
                            "<tr><td>61</td><td>3</td><td>15</td></tr>",
                            "<tr><td>51</td><td>3</td><td>15</td></tr>",
                            "<tr><td>20</td><td>3</td><td>15</td></tr>",
                            "<tr><td>8</td><td>3</td><td>15</td></tr>",
                            "<tr><td>16</td><td>3</td><td>15</td></tr>",
                            "<tr><td>87</td><td>3</td><td>15</td></tr>",
                            "<tr><td>79</td><td>3</td><td>15</td></tr>",
                            "<tr><td>112</td><td>3</td><td>15</td></tr>",
                            "<tr><td>113</td><td>3</td><td>15</td></tr>",
                            "<tr><td>93</td><td>3</td><td>15</td></tr>",
                            "<tr><td>144</td><td>3</td><td>15</td></tr>",
                            "<tr><td>123</td><td>3</td><td>15</td></tr>",
                            "<tr><td>155</td><td>3</td><td>15</td></tr>",
                            "<tr><td>153</td><td>3</td><td>15</td></tr>",
                            "<tr><td>160</td><td>3</td><td>15</td></tr>",
                            "<tr><td>152</td><td>2</td><td>16</td></tr>",
                            "<tr><td>173</td><td>2</td><td>16</td></tr>",
                            "<tr><td>174</td><td>2</td><td>16</td></tr>",
                            "<tr><td>186</td><td>2</td><td>16</td></tr>",
                            "<tr><td>184</td><td>2</td><td>16</td></tr>",
                            "<tr><td>196</td><td>2</td><td>16</td></tr>",
                            "<tr><td>129</td><td>2</td><td>16</td></tr>",
                            "<tr><td>100</td><td>2</td><td>16</td></tr>",
                            "<tr><td>114</td><td>2</td><td>16</td></tr>",
                            "<tr><td>98</td><td>2</td><td>16</td></tr>",
                            "<tr><td>103</td><td>2</td><td>16</td></tr>",
                            "<tr><td>85</td><td>2</td><td>16</td></tr>",
                            "<tr><td>91</td><td>2</td><td>16</td></tr>",
                            "<tr><td>11</td><td>2</td><td>16</td></tr>",
                            "<tr><td>5</td><td>2</td><td>16</td></tr>",
                            "<tr><td>21</td><td>2</td><td>16</td></tr>",
                            "<tr><td>50</td><td>2</td><td>16</td></tr>",
                            "<tr><td>57</td><td>2</td><td>16</td></tr>",
                            "<tr><td>63</td><td>2</td><td>16</td></tr>",
                            "<tr><td>72</td><td>2</td><td>16</td></tr>",
                            "<tr><td>73</td><td>2</td><td>16</td></tr>",
                            "<tr><td>66</td><td>3</td><td>17</td></tr>",
                            "<tr><td>69</td><td>3</td><td>17</td></tr>",
                            "<tr><td>46</td><td>3</td><td>17</td></tr>",
                            "<tr><td>34</td><td>3</td><td>17</td></tr>",
                            "<tr><td>40</td><td>3</td><td>17</td></tr>",
                            "<tr><td>2</td><td>3</td><td>17</td></tr>",
                            "<tr><td>10</td><td>3</td><td>17</td></tr>",
                            "<tr><td>13</td><td>3</td><td>17</td></tr>",
                            "<tr><td>90</td><td>3</td><td>17</td></tr>",
                            "<tr><td>84</td><td>3</td><td>17</td></tr>",
                            "<tr><td>104</td><td>3</td><td>17</td></tr>",
                            "<tr><td>95</td><td>3</td><td>17</td></tr>",
                            "<tr><td>177</td><td>3</td><td>17</td></tr>",
                            "<tr><td>178</td><td>3</td><td>17</td></tr>",
                            "<tr><td>183</td><td>3</td><td>17</td></tr>",
                            "<tr><td>180</td><td>2</td><td>18</td></tr>",
                            "<tr><td>166</td><td>2</td><td>18</td></tr>",
                            "<tr><td>151</td><td>2</td><td>18</td></tr>",
                            "<tr><td>158</td><td>2</td><td>18</td></tr>",
                            "<tr><td>101</td><td>2</td><td>18</td></tr>",
                            "<tr><td>75</td><td>2</td><td>18</td></tr>",
                            "<tr><td>76</td><td>2</td><td>18</td></tr>",
                            "<tr><td>136</td><td>2</td><td>18</td></tr>",
                            "<tr><td>23</td><td>2</td><td>18</td></tr>",
                            "<tr><td>37</td><td>2</td><td>18</td></tr>",
                            "<tr><td>68</td><td>2</td><td>18</td></tr>",
                            "<tr><td>71</td><td>3</td><td>19</td></tr>",
                            "<tr><td>30</td><td>3</td><td>19</td></tr>",
                            "<tr><td>31</td><td>3</td><td>19</td></tr>",
                            "<tr><td>14</td><td>3</td><td>19</td></tr>",
                            "<tr><td>135</td><td>3</td><td>19</td></tr>",
                            "<tr><td>162</td><td>3</td><td>19</td></tr>",
                            "<tr><td>179</td><td>3</td><td>19</td></tr>",
                            "<tr><td>24</td><td>4</td><td>20</td></tr>",
                            "<tr><td>26</td><td>2</td><td>21</td></tr>",
                            "<tr><td>47</td><td>2</td><td>21</td></tr>",
                            "<tr><td>53</td><td>2</td><td>21</td></tr>",
                            "<tr><td>56</td><td>2</td><td>21</td></tr>",
                            "<tr><td>108</td><td>2</td><td>21</td></tr>",
                            "<tr><td>102</td><td>2</td><td>21</td></tr>",
                            "<tr><td>105</td><td>2</td><td>21</td></tr>",
                            "<tr><td>192</td><td>2</td><td>21</td></tr>",
                            "<tr><td>167</td><td>3</td><td>22</td></tr>",
                            "<tr><td>116</td><td>3</td><td>22</td></tr>",
                            "<tr><td>142</td><td>3</td><td>22</td></tr>",
                            "<tr><td>25</td><td>3</td><td>22</td></tr>",
                            "<tr><td>41</td><td>3</td><td>22</td></tr>",
                            "<tr><td>32</td><td>2</td><td>23</td></tr>",
                            "<tr><td>65</td><td>2</td><td>23</td></tr>",
                            "<tr><td>147</td><td>2</td><td>23</td></tr>",
                            "<tr><td>125</td><td>2</td><td>23</td></tr>",
                            "<tr><td>194</td><td>2</td><td>23</td></tr>",
                            "<tr><td>60</td><td>3</td><td>24</td></tr>",
                            "<tr><td>261</td><td>1</td><td>25</td></tr>",
                            "<tr><td>262</td><td>1</td><td>25</td></tr>",
                            "<tr><td>263</td><td>2</td><td>26</td></tr>",
                            "<tr><td>266</td><td>2</td><td>26</td></tr>",
                            "<tr><td>267</td><td>2</td><td>26</td></tr>",
                            "<tr><td>268</td><td>2</td><td>26</td></tr>",
                            "<tr><td>269</td><td>2</td><td>26</td></tr>",
                            "<tr><td>275</td><td>2</td><td>26</td></tr>",
                            "<tr><td>276</td><td>2</td><td>26</td></tr>",
                            "<tr><td>277</td><td>2</td><td>26</td></tr>",
                            "<tr><td>273</td><td>2</td><td>26</td></tr>",
                            "<tr><td>279</td><td>2</td><td>26</td></tr>",
                            "<tr><td>281</td><td>2</td><td>26</td></tr>",
                            "<tr><td>282</td><td>2</td><td>26</td></tr>",
                            "<tr><td>283</td><td>2</td><td>26</td></tr>",
                            "<tr><td>284</td><td>2</td><td>26</td></tr>",
                            "<tr><td>285</td><td>2</td><td>26</td></tr>",
                            "<tr><td>290</td><td>2</td><td>26</td></tr>",
                            "<tr><td>291</td><td>2</td><td>26</td></tr>",
                            "<tr><td>292</td><td>2</td><td>26</td></tr>",
                            "<tr><td>293</td><td>2</td><td>26</td></tr>",
                            "<tr><td>288</td><td>2</td><td>26</td></tr>",
                            "<tr><td>222</td><td>2</td><td>26</td></tr>",
                            "<tr><td>223</td><td>2</td><td>26</td></tr>",
                            "<tr><td>224</td><td>2</td><td>26</td></tr>",
                            "<tr><td>225</td><td>2</td><td>26</td></tr>",
                            "<tr><td>227</td><td>2</td><td>26</td></tr>",
                            "<tr><td>229</td><td>2</td><td>26</td></tr>",
                            "<tr><td>231</td><td>2</td><td>26</td></tr>",
                            "<tr><td>232</td><td>2</td><td>26</td></tr>",
                            "<tr><td>237</td><td>2</td><td>26</td></tr>",
                            "<tr><td>239</td><td>2</td><td>26</td></tr>",
                            "<tr><td>241</td><td>2</td><td>26</td></tr>",
                            "<tr><td>242</td><td>2</td><td>26</td></tr>",
                            "<tr><td>243</td><td>2</td><td>26</td></tr>",
                            "<tr><td>244</td><td>2</td><td>26</td></tr>",
                            "<tr><td>245</td><td>2</td><td>26</td></tr>",
                            "<tr><td>246</td><td>2</td><td>26</td></tr>",
                            "<tr><td>247</td><td>2</td><td>26</td></tr>",
                            "<tr><td>248</td><td>2</td><td>26</td></tr>",
                            "<tr><td>249</td><td>2</td><td>26</td></tr>",
                            "<tr><td>253</td><td>2</td><td>26</td></tr>",
                            "<tr><td>254</td><td>2</td><td>26</td></tr>",
                            "<tr><td>257</td><td>2</td><td>26</td></tr>",
                            "<tr><td>258</td><td>2</td><td>26</td></tr>",
                            "<tr><td>259</td><td>2</td><td>26</td></tr>",
                            "<tr><td>260</td><td>2</td><td>26</td></tr>",
                            "<tr><td>200</td><td>2</td><td>26</td></tr>",
                            "<tr><td>215</td><td>2</td><td>26</td></tr>",
                            "<tr><td>217</td><td>2</td><td>26</td></tr>",
                            "<tr><td>219</td><td>2</td><td>26</td></tr>",
                            "<tr><td>206</td><td>2</td><td>26</td></tr>",
                            "<tr><td>207</td><td>2</td><td>26</td></tr>",
                            "<tr><td>208</td><td>2</td><td>26</td></tr>",
                            "<tr><td>210</td><td>2</td><td>26</td></tr>",
                            "<tr><td>211</td><td>2</td><td>26</td></tr>",
                            "<tr><td>212</td><td>3</td><td>27</td></tr>",
                            "<tr><td>213</td><td>3</td><td>27</td></tr>",
                            "<tr><td>214</td><td>3</td><td>27</td></tr>",
                            "<tr><td>209</td><td>3</td><td>27</td></tr>",
                            "<tr><td>220</td><td>3</td><td>27</td></tr>",
                            "<tr><td>221</td><td>3</td><td>27</td></tr>",
                            "<tr><td>218</td><td>3</td><td>27</td></tr>",
                            "<tr><td>216</td><td>3</td><td>27</td></tr>",
                            "<tr><td>199</td><td>3</td><td>27</td></tr>",
                            "<tr><td>201</td><td>3</td><td>27</td></tr>",
                            "<tr><td>202</td><td>3</td><td>27</td></tr>",
                            "<tr><td>203</td><td>3</td><td>27</td></tr>",
                            "<tr><td>204</td><td>3</td><td>27</td></tr>",
                            "<tr><td>205</td><td>3</td><td>27</td></tr>",
                            "<tr><td>159</td><td>3</td><td>27</td></tr>",
                            "<tr><td>255</td><td>3</td><td>27</td></tr>",
                            "<tr><td>256</td><td>3</td><td>27</td></tr>",
                            "<tr><td>250</td><td>3</td><td>27</td></tr>",
                            "<tr><td>251</td><td>3</td><td>27</td></tr>",
                            "<tr><td>252</td><td>3</td><td>27</td></tr>",
                            "<tr><td>240</td><td>3</td><td>27</td></tr>",
                            "<tr><td>238</td><td>3</td><td>27</td></tr>",
                            "<tr><td>233</td><td>3</td><td>27</td></tr>",
                            "<tr><td>234</td><td>3</td><td>27</td></tr>",
                            "<tr><td>235</td><td>3</td><td>27</td></tr>",
                            "<tr><td>236</td><td>3</td><td>27</td></tr>",
                            "<tr><td>230</td><td>3</td><td>27</td></tr>",
                            "<tr><td>228</td><td>3</td><td>27</td></tr>",
                            "<tr><td>226</td><td>3</td><td>27</td></tr>",
                            "<tr><td>289</td><td>3</td><td>27</td></tr>",
                            "<tr><td>294</td><td>3</td><td>27</td></tr>",
                            "<tr><td>286</td><td>3</td><td>27</td></tr>",
                            "<tr><td>287</td><td>3</td><td>27</td></tr>",
                            "<tr><td>280</td><td>3</td><td>27</td></tr>",
                            "<tr><td>274</td><td>3</td><td>27</td></tr>",
                            "<tr><td>278</td><td>3</td><td>27</td></tr>",
                            "<tr><td>270</td><td>3</td><td>27</td></tr>",
                            "<tr><td>271</td><td>3</td><td>27</td></tr>",
                            "<tr><td>272</td><td>3</td><td>27</td></tr>",
                            "<tr><td>264</td><td>3</td><td>27</td></tr>",
                            "<tr><td>265</td><td>3</td><td>27</td></tr>",
                            "</table>"
                        ]
                    }
                }
            ],
            "execution_count": 19
        },
        {
            "cell_type": "code",
            "source": [
                "SELECT distinct v.nev\r\n",
                "from Vendeg v\r\n",
                "where not exists(\r\n",
                "    select 1 \r\n",
                "    from Foglalas f \r\n",
                "    where f.Ugyfel_fk = v.Usernev\r\n",
                ")\r\n",
                "or not exists(\r\n",
                "    select 1\r\n",
                "    from Foglalas f \r\n",
                "    where f.Ugyfel_fk = v.usernev and \r\n",
                "    day(f.meddig)-day(f.mettol)+1 >=3\r\n",
                ")\r\n",
                "\r\n",
                "\r\n",
                ""
            ],
            "metadata": {
                "azdata_cell_guid": "c77a84d3-2a17-4bd2-8eda-b46c4e7a59f5",
                "language": "sql"
            },
            "outputs": [
                {
                    "output_type": "display_data",
                    "data": {
                        "text/html": "(8 rows affected)"
                    },
                    "metadata": {}
                },
                {
                    "output_type": "display_data",
                    "data": {
                        "text/html": "Total execution time: 00:00:00.025"
                    },
                    "metadata": {}
                },
                {
                    "output_type": "execute_result",
                    "metadata": {},
                    "execution_count": 20,
                    "data": {
                        "application/vnd.dataresource+json": {
                            "schema": {
                                "fields": [
                                    {
                                        "name": "nev"
                                    }
                                ]
                            },
                            "data": [
                                {
                                    "nev": "Keresztúri Viktor"
                                },
                                {
                                    "nev": "Molnár Zsófi"
                                },
                                {
                                    "nev": "Nagy András"
                                },
                                {
                                    "nev": "Papós Tímea"
                                },
                                {
                                    "nev": "Szöllősi Gábor"
                                },
                                {
                                    "nev": "Szűcs Annamária"
                                },
                                {
                                    "nev": "Urbán Viktoria"
                                },
                                {
                                    "nev": "Varsányi Zsuzsa"
                                }
                            ]
                        },
                        "text/html": [
                            "<table>",
                            "<tr><th>nev</th></tr>",
                            "<tr><td>Keresztúri Viktor</td></tr>",
                            "<tr><td>Molnár Zsófi</td></tr>",
                            "<tr><td>Nagy András</td></tr>",
                            "<tr><td>Papós Tímea</td></tr>",
                            "<tr><td>Szöllősi Gábor</td></tr>",
                            "<tr><td>Szűcs Annamária</td></tr>",
                            "<tr><td>Urbán Viktoria</td></tr>",
                            "<tr><td>Varsányi Zsuzsa</td></tr>",
                            "</table>"
                        ]
                    }
                }
            ],
            "execution_count": 20
        }
    ]
}