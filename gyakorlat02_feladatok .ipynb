{
    "metadata": {
        "kernelspec": {
            "name": "SQL",
            "display_name": "SQL",
            "language": "sql"
        },
        "language_info": {
            "name": "sql",
            "version": ""
        },
        "extensions": {
            "azuredatastudio": {
                "version": 1,
                "views": []
            }
        }
    },
    "nbformat_minor": 2,
    "nbformat": 4,
    "cells": [
        {
            "cell_type": "markdown",
            "source": [
                "1. <span style=\"color:rgb(36, 41, 47);font-family:-apple-system, BlinkMacSystemFont, &quot;Segoe UI&quot;, Helvetica, Arial, sans-serif, &quot;Apple Color Emoji&quot;, &quot;Segoe UI Emoji&quot;;font-size:16px;\">Készítsünk lekérdezést, amely listázza, hogy mely napokon hány db kölcsönzés történt!</span>\n",
                "\n",
                "<span style=\"font-size: 16px;\">a.&nbsp;</span> Az oszlopok neve legyen 'Dátum' és 'Kölcsönzések száma'  \n",
                "b. A listát rendezzük a kölcsönzés dátuma szerint csökkenő sorrendbe!"
            ],
            "metadata": {
                "azdata_cell_guid": "77f2d5b3-38e9-41cc-893f-f5afd02b97ef"
            },
            "attachments": {}
        },
        {
            "cell_type": "code",
            "source": [
                "SELECT ki_datum,\r\n",
                "    COUNT(ID) AS \"Kölcsönzések száma\"\r\n",
                "from kolcsonzesek\r\n",
                "group by ki_datum\r\n",
                "order by ki_datum DESC"
            ],
            "metadata": {
                "azdata_cell_guid": "bd3cef1a-4e6e-4ece-9dc3-aaa9d2b5d66d",
                "language": "sql"
            },
            "outputs": [],
            "execution_count": null
        },
        {
            "cell_type": "markdown",
            "source": [
                "2. <span style=\"font-weight: 600; color: rgb(36, 41, 47); font-family: -apple-system, BlinkMacSystemFont, &quot;Segoe UI&quot;, Helvetica, Arial, sans-serif, &quot;Apple Color Emoji&quot;, &quot;Segoe UI Emoji&quot;; font-size: 16px;\">Mennyi a dvd-k átlagos ára stílusonkénti bontásban?</span>\n",
                "\n",
                "1. Csak azokat a stílusokat vegyük figyelembe, ahol az átlagos ár 4500 Ft feletti!\n",
                "2. Az oszlopokat nevezzük el értelemszerűen!\n",
                "3. A listát rendezzük átlagos ár szerint csökkenő sorrendbe!"
            ],
            "metadata": {
                "azdata_cell_guid": "88f5b4bb-f4c1-4bad-a0c7-b2592687b422"
            },
            "attachments": {}
        },
        {
            "cell_type": "code",
            "source": [
                "select stilus, avg(nettoar) as \"Átlagos_ár\"\r\n",
                "from dvd\r\n",
                "group by stilus\r\n",
                "having avg(nettoar) > 4500\r\n",
                "order by avg(nettoar) desc\r\n",
                ""
            ],
            "metadata": {
                "azdata_cell_guid": "e9de5726-f036-4fb9-8c33-a873955ed886",
                "language": "sql"
            },
            "outputs": [],
            "execution_count": null
        },
        {
            "cell_type": "markdown",
            "source": [
                "3. <span style=\"color:rgb(36, 41, 47);font-family:-apple-system, BlinkMacSystemFont, &quot;Segoe UI&quot;, Helvetica, Arial, sans-serif, &quot;Apple Color Emoji&quot;, &quot;Segoe UI Emoji&quot;;font-size:16px;\">Listázzuk nyelvenkénti, azon belül stílusonkénti bontásban, hogy mennyi a dvd-k legkisebb és legnagyobb ára!&nbsp;</span> \n",
                "\n",
                "<span style=\"font-size: 16px;\">a. Az oszlopok neve legyen 'Nyelv', 'Stílus', 'MinÁr' és 'MaxÁr'!<br>b.&nbsp;</span> A listából hagyjuk ki azokat a sorokat, ahol a nyelv vagy a stílus nincs megadva!  \n",
                "c. Szintén hagyjuk ki azokat a csoportokat, ahol a csoport elemszáma 3-nál kisebb!"
            ],
            "metadata": {
                "azdata_cell_guid": "9e7249de-1b59-43d8-84b1-26fa7d81fc5a"
            },
            "attachments": {}
        },
        {
            "cell_type": "code",
            "source": [
                "select ny.lang as 'nyelv',\r\n",
                "    d.stilus as 'stilus',\r\n",
                "    max(d.nettoar) as 'max',\r\n",
                "    min(d.nettoar) as 'min'\r\n",
                "from dvd d \r\n",
                "    join nyelvek ny\r\n",
                "        on ny.id = d.lang\r\n",
                "group by d.stilus, ny.lang\r\n",
                "having count(*)>=3"
            ],
            "metadata": {
                "azdata_cell_guid": "6405d3e8-a9b1-45d7-aa76-3b1e785ef6cc",
                "language": "sql"
            },
            "outputs": [],
            "execution_count": null
        },
        {
            "cell_type": "markdown",
            "source": [
                "4. <span style=\"color: rgb(36, 41, 47); font-family: -apple-system, BlinkMacSystemFont, &quot;Segoe UI&quot;, Helvetica, Arial, sans-serif, &quot;Apple Color Emoji&quot;, &quot;Segoe UI Emoji&quot;; font-size: 16px;\">Készítsünk listát, amely a csoportokat hoz létre aszerint, hogy a mai naptól számítva hány nap telt el a kölcsönzés kezdete óta. A lista jelenítse meg csoportonkénti bontásban a kikölcsönzött dvd-k számát!</span>\n",
                "\n",
                "1. Az oszlopokat nevezzük el értelemszerűen!\n",
                "2. A listát rendezzük az eltelt napok száma szerint csökkenő sorrendbe!"
            ],
            "metadata": {
                "azdata_cell_guid": "6478e469-c094-472c-a772-ccd5b5c61516"
            },
            "attachments": {}
        },
        {
            "cell_type": "code",
            "source": [
                "SELECT datediff(day, ki_datum, getdate()) as 'eltelt_napok',\r\n",
                "    count(*) as 'dvdk_szama'\r\n",
                "from kolcsonzesek\r\n",
                "group by datediff(day, ki_datum, getdate())\r\n",
                "order by datediff(day, ki_datum, getdate()) desc\r\n",
                ""
            ],
            "metadata": {
                "azdata_cell_guid": "02031ea2-3838-458d-839c-228e3b362b61",
                "language": "sql"
            },
            "outputs": [],
            "execution_count": null
        },
        {
            "cell_type": "markdown",
            "source": [
                "5. <span style=\"color: rgb(36, 41, 47); font-family: -apple-system, BlinkMacSystemFont, &quot;Segoe UI&quot;, Helvetica, Arial, sans-serif, &quot;Apple Color Emoji&quot;, &quot;Segoe UI Emoji&quot;; font-size: 16px;\">A kölcsönző tulajdonosa elhatározza, hogy ezentúl kerekebb árakat alkalmaz. Ezért minden dvd árát 1000 Ft-ra kerekíti. Készítsünk lekérdezést, amely megmutatja, hogy melyik 1000 Ft-ra kerekített ár szerint, azon belül stílus szerint hány db dvd összesen raktáron! **</span>\n",
                "\n",
                "1. Csak olyan csoportokat listázzunk, ahol a raktárkészlet legalább 30!\n",
                "2. A listát rendezzük kerekített ár szerint, azon belül raktárkészlet szerint növekvő sorrendbe!"
            ],
            "metadata": {
                "azdata_cell_guid": "9edbbaf9-c276-4898-9a01-e1b2993c089f"
            },
            "attachments": {}
        },
        {
            "cell_type": "code",
            "source": [
                "select round(nettoar, -3) as 'kerekített', \r\n",
                "    stilus,\r\n",
                "    count(*) as 'raktáron'\r\n",
                "from dvd\r\n",
                "group by round(nettoar, -3),\r\n",
                "    stilus\r\n",
                "having count(*) >= 30\r\n",
                "order by count(*) ASC"
            ],
            "metadata": {
                "azdata_cell_guid": "5ad5fdcb-2878-4111-861a-833bcd50e935",
                "language": "sql"
            },
            "outputs": [],
            "execution_count": null
        },
        {
            "cell_type": "markdown",
            "source": [
                "6. <span style=\"font-weight: 600; color: rgb(36, 41, 47); font-family: -apple-system, BlinkMacSystemFont, &quot;Segoe UI&quot;, Helvetica, Arial, sans-serif, &quot;Apple Color Emoji&quot;, &quot;Segoe UI Emoji&quot;; font-size: 16px;\">A dvd-ket csoportosíthatjuk aszerint, hogy milyen hosszú a címük. Amelyiknél a cím hosszúsága 10 karakter alatt van, az legyen Rövid, 10-20-ig Átlagos, 20 felett Hosszú. Hány Rövid, Átlagos, illetve Hosszú dvd-van összesen raktáron?</span>\n",
                "\n",
                "1. Az oszlopok neve legyen 'Cím hosszúság' és 'Darabszám"
            ],
            "metadata": {
                "azdata_cell_guid": "5fe65c1c-2479-45ac-ad03-ec99d12eae21"
            },
            "attachments": {}
        },
        {
            "cell_type": "code",
            "source": [
                "select iif(len(cim)<10, 'Rövid', iif(len(cim)>20, 'hosszú', 'közepes')) as 'hossz',\r\n",
                "    count(*) as 'db'\r\n",
                "from dvd\r\n",
                "group by iif(len(cim)<10, 'Rövid', iif(len(cim)>20, 'hosszú', 'közepes'))\r\n",
                ""
            ],
            "metadata": {
                "azdata_cell_guid": "924f2dde-f1c2-4def-a7f9-dbf4bace7735",
                "language": "sql"
            },
            "outputs": [],
            "execution_count": null
        },
        {
            "cell_type": "markdown",
            "source": [
                "7. <span style=\"color: rgb(36, 41, 47); font-family: -apple-system, BlinkMacSystemFont, &quot;Segoe UI&quot;, Helvetica, Arial, sans-serif, &quot;Apple Color Emoji&quot;, &quot;Segoe UI Emoji&quot;; font-size: 16px;\">Készítsünk listát arról, hogy melyik teremben hány óra van!</span>\n",
                "\n",
                "1. Jelenítsük meg a termek azonosítóit és a teremben tartott órák számát!\n",
                "2. Az oszlopokat nevezzük el értelemszerűen!\n",
                "3. Szűrjünk azokra a termekre, ahol az órák száma legalább 3!"
            ],
            "metadata": {
                "azdata_cell_guid": "3aeb6bf5-b111-40d5-92b2-9712ce335696"
            },
            "attachments": {}
        },
        {
            "cell_type": "code",
            "source": [
                "select terem, count(ora_id) as \"órák száma\"\r\n",
                "from Orak\r\n",
                "group by terem\r\n",
                "having count(ora_id) >= 3"
            ],
            "metadata": {
                "azdata_cell_guid": "3e89b651-f56f-4102-af52-30eb2bbe360d",
                "language": "sql"
            },
            "outputs": [],
            "execution_count": null
        },
        {
            "cell_type": "markdown",
            "source": [
                "8. <span style=\"color: rgb(36, 41, 47); font-family: -apple-system, BlinkMacSystemFont, &quot;Segoe UI&quot;, Helvetica, Arial, sans-serif, &quot;Apple Color Emoji&quot;, &quot;Segoe UI Emoji&quot;; font-size: 16px;\">Készítsünk lekérdezést, amely megadja, hogy minimálian és maximálisan hány kreditet ér egy tantárgy!</span>\n",
                "\n",
                "1. Az oszlopokat nevezzük el értelemszerűen!\n",
                "2. Ne vegyük figyelembe azokat a tantárgyakat, amelyek nevében az „alapjai” szó szerepel, vagy a tantárgy neve 10 karakternél rövidebb!"
            ],
            "metadata": {
                "azdata_cell_guid": "26a504dc-ff6a-439f-94c0-4580eca3eacf"
            },
            "attachments": {}
        },
        {
            "cell_type": "code",
            "source": [
                "select Tantárgynév,\r\n",
                "    min(Kredit) as 'Minimum',\r\n",
                "    MAX(Kredit) as 'Maximum'\r\n",
                "from Tantárgyak\r\n",
                "where len(Tantárgynév) >= 10 AND \r\n",
                "    Tantárgynév not like '%alapjai%'\r\n",
                "Group by Tantárgynév"
            ],
            "metadata": {
                "azdata_cell_guid": "1cbb8aeb-78b5-4350-aa45-e3202fdab85b",
                "language": "sql",
                "tags": []
            },
            "outputs": [],
            "execution_count": null
        },
        {
            "cell_type": "markdown",
            "source": [
                "9. <span style=\"color: rgb(36, 41, 47); font-family: -apple-system, BlinkMacSystemFont, &quot;Segoe UI&quot;, Helvetica, Arial, sans-serif, &quot;Apple Color Emoji&quot;, &quot;Segoe UI Emoji&quot;; font-size: 16px;\">A tapasztalat alapján a tanársegédeknek 8, az óraadóknak 10 órájuk van egy héten. A többiek annyi órát tartanak, amennyi az elvárt óraszámuk. Készítsünk lekérdezést, amely minden beosztáshoz megjeleníti, hogy hetente hány túlóra tartozik hozzá!</span>\n",
                "\n",
                "1. A lekérdezés csak a beosztások nevét és a heti túlórák számát jelenítse meg!"
            ],
            "metadata": {
                "azdata_cell_guid": "435e2860-2dd5-4877-90f4-34a43baeb53c"
            },
            "attachments": {}
        },
        {
            "cell_type": "code",
            "source": [
                "select b.beosztasnev,\r\n",
                "    CASE b.beosztasnev\r\n",
                "        WHEN 'tanársegéd' THEN 8-avg(b.elvart)\r\n",
                "        WHEN 'óraadó' THEN 10-avg(b.elvart)\r\n",
                "        ELSE 0\r\n",
                "    END as 'túlóra'\r\n",
                "from Oktatok o\r\n",
                "    join Beosztasok b\r\n",
                "        on b.beosztas_id = o.beosztás\r\n",
                "group by b.beosztasnev"
            ],
            "metadata": {
                "azdata_cell_guid": "ce846351-ddbe-4d8e-b8fb-2a92c73ac80b",
                "language": "sql"
            },
            "outputs": [],
            "execution_count": null
        },
        {
            "cell_type": "markdown",
            "source": [
                "10. <span style=\"font-weight: 600; color: rgb(36, 41, 47); font-family: -apple-system, BlinkMacSystemFont, &quot;Segoe UI&quot;, Helvetica, Arial, sans-serif, &quot;Apple Color Emoji&quot;, &quot;Segoe UI Emoji&quot;; font-size: 16px;\">Melyek azok az oktatók, akiknek nincs órájuk?</span>\n",
                "\n",
                "1. Csak az oktatók neve jelenjen meg!\n",
                "2. ÖTLET: használjunk LEFT JOIN-t, és szűrjünk azokra a rekordokra, ahol NULL érték van a JOIN utáni feltétel jobb oldalán!"
            ],
            "metadata": {
                "azdata_cell_guid": "217c5772-afe2-4a7c-b913-e3a3e09d6411"
            },
            "attachments": {}
        },
        {
            "cell_type": "code",
            "source": [
                "select okt.nev\r\n",
                "from Oktatok okt\r\n",
                "    left join Orak o \r\n",
                "        on okt.oktato_id = o.tanar\r\n",
                "where o.targy is null"
            ],
            "metadata": {
                "azdata_cell_guid": "a9cc0926-3dbd-4ed8-8179-1c39d64a0762",
                "language": "sql"
            },
            "outputs": [
                {
                    "output_type": "display_data",
                    "data": {
                        "text/html": "(5 rows affected)"
                    },
                    "metadata": {}
                },
                {
                    "output_type": "display_data",
                    "data": {
                        "text/html": "Total execution time: 00:00:00.033"
                    },
                    "metadata": {}
                },
                {
                    "output_type": "execute_result",
                    "execution_count": 124,
                    "data": {
                        "application/vnd.dataresource+json": {
                            "schema": {
                                "fields": [
                                    {
                                        "name": "nev"
                                    }
                                ]
                            },
                            "data": [
                                {
                                    "nev": "Józsa Gábor"
                                },
                                {
                                    "nev": "Rácz András"
                                },
                                {
                                    "nev": "Kiss István"
                                },
                                {
                                    "nev": "Mészáros Kriszta"
                                },
                                {
                                    "nev": "Kovacs Istvan"
                                }
                            ]
                        },
                        "text/html": "<table><tr><th>nev</th></tr><tr><td>Józsa Gábor</td></tr><tr><td>Rácz András</td></tr><tr><td>Kiss István</td></tr><tr><td>Mészáros Kriszta</td></tr><tr><td>Kovacs Istvan</td></tr></table>"
                    },
                    "metadata": {}
                }
            ],
            "execution_count": 124
        },
        {
            "cell_type": "markdown",
            "source": [
                "11. <span style=\"font-weight: 600; color: rgb(36, 41, 47); font-family: -apple-system, BlinkMacSystemFont, &quot;Segoe UI&quot;, Helvetica, Arial, sans-serif, &quot;Apple Color Emoji&quot;, &quot;Segoe UI Emoji&quot;; font-size: 16px;\">Készítsünk lekérdezést, amely részletesen megjeleníti az egyes órák fontosabb adatait, azaz</span>\n",
                "\n",
                "1. Az órák azonosítóit, a tanár nevét, a tantárgy nevét, a terem nevét és a kezdési időpontot!\n",
                "2. Az oszlopokat nevezzük el értelemszerűen!"
            ],
            "metadata": {
                "azdata_cell_guid": "d2340f5f-1614-473c-b937-85740d67f7c1"
            },
            "attachments": {}
        },
        {
            "cell_type": "code",
            "source": [
                "select o.ora_id,\r\n",
                "    okt.nev,\r\n",
                "    t.Tantárgynév,\r\n",
                "    tm.Terem,\r\n",
                "    s.Időpont\r\n",
                "from Orak o\r\n",
                "    join Oktatok okt\r\n",
                "        On o.tanar = okt.oktato_id\r\n",
                "    join Tantárgyak t \r\n",
                "        on o.targy = t.Tkód\r\n",
                "    join Termek tm \r\n",
                "        on o.terem = tm.Tkód\r\n",
                "    join Savok s \r\n",
                "        on o.Sav = s.Sav_id"
            ],
            "metadata": {
                "azdata_cell_guid": "e99c2c53-898f-4787-b0e6-182d106dc16f",
                "language": "sql",
                "tags": []
            },
            "outputs": [],
            "execution_count": null
        },
        {
            "cell_type": "markdown",
            "source": [
                "12. <span style=\"color: rgb(36, 41, 47); font-family: -apple-system, BlinkMacSystemFont, &quot;Segoe UI&quot;, Helvetica, Arial, sans-serif, &quot;Apple Color Emoji&quot;, &quot;Segoe UI Emoji&quot;; font-size: 16px;\">Készítsünk listát, amely tartalmazza az egyes órák azonosítóit, és az órán oktatott tantárgy felelősének nevét!</span>\n",
                "\n",
                "1. Rendezzük a listát a tantárgyfelelős neve szerint csökkenő sorrendbe!"
            ],
            "metadata": {
                "azdata_cell_guid": "a765e9d6-58b3-4171-872a-78f3118fd6e3"
            },
            "attachments": {}
        },
        {
            "cell_type": "code",
            "source": [
                "select o.ora_id,\r\n",
                "   okt.nev\r\n",
                "from Orak o \r\n",
                "    join Tantárgyak t\r\n",
                "        on o.targy = t.Tkód\r\n",
                "    join Oktatok okt\r\n",
                "        on okt.oktato_id = t.Tantárgyfelelős\r\n",
                "order by okt.nev desc\r\n",
                "\r\n",
                ""
            ],
            "metadata": {
                "azdata_cell_guid": "422e8127-b652-4d3a-bfd7-9b1637b5781e",
                "language": "sql"
            },
            "outputs": [],
            "execution_count": null
        },
        {
            "cell_type": "markdown",
            "source": [
                "13. <span style=\"color: rgb(36, 41, 47); font-family: -apple-system, BlinkMacSystemFont, &quot;Segoe UI&quot;, Helvetica, Arial, sans-serif, &quot;Apple Color Emoji&quot;, &quot;Segoe UI Emoji&quot;; font-size: 16px;\">Készítsünk listát, amely megjeleníti, hogy az Orak táblában lévő órák közül hányat tart Dr., illetve nem Dr. titulusú tanár!</span>\n",
                "\n",
                "1. Az oszlopokat nevezzük el értelemszerűen!"
            ],
            "metadata": {
                "azdata_cell_guid": "3f9237ae-f109-401c-acb9-31d75e73331b"
            },
            "attachments": {}
        },
        {
            "cell_type": "code",
            "source": [
                "select iif(okt.titulus='Dr.', 'doktor', 'nem doktor') as 'doktore',\r\n",
                "    count(*) as 'mennyivan'\r\n",
                "from Orak o\r\n",
                "    join Oktatok okt\r\n",
                "        on o.tanar = okt.oktato_id\r\n",
                "group by iif(okt.titulus='Dr.', 'doktor', 'nem doktor')"
            ],
            "metadata": {
                "azdata_cell_guid": "4b31bb89-cfbc-46b1-8639-85c462877786",
                "language": "sql"
            },
            "outputs": [],
            "execution_count": null
        },
        {
            "cell_type": "markdown",
            "source": [
                "14. <span style=\"color: rgb(36, 41, 47); font-family: -apple-system, BlinkMacSystemFont, &quot;Segoe UI&quot;, Helvetica, Arial, sans-serif, &quot;Apple Color Emoji&quot;, &quot;Segoe UI Emoji&quot;; font-size: 16px;\">Készítsünk listát arról, hogy beosztásonként hány óra szerepel az Orak táblában!</span>\n",
                "\n",
                "1. Jelenítsük meg a beosztások nevét és az órák számát!\n",
                "2. A listát szűrjük azokra a beosztásokra, ahol ez az óraszám 10 feletti!"
            ],
            "metadata": {
                "azdata_cell_guid": "f634e09a-85ef-4e70-8ec6-ef355dfddaa7"
            },
            "attachments": {}
        },
        {
            "cell_type": "code",
            "source": [
                "select b.beosztasnev,\r\n",
                "    COUNT(o.targy) as 'óraszám'\r\n",
                "from Beosztasok b\r\n",
                "    Join Oktatok okt\r\n",
                "        on b.beosztas_id = okt.beosztás\r\n",
                "    join Orak o\r\n",
                "        on o.tanar = okt.oktato_id\r\n",
                "group by b.beosztasnev\r\n",
                "having COUNT(o.targy) > 10\r\n",
                ""
            ],
            "metadata": {
                "azdata_cell_guid": "88abc55b-2c78-495b-a72f-3f8f4eb5fe70",
                "language": "sql"
            },
            "outputs": [],
            "execution_count": null
        },
        {
            "cell_type": "markdown",
            "source": [
                "15. <span style=\"color: rgb(36, 41, 47); font-family: -apple-system, BlinkMacSystemFont, &quot;Segoe UI&quot;, Helvetica, Arial, sans-serif, &quot;Apple Color Emoji&quot;, &quot;Segoe UI Emoji&quot;; font-size: 16px;\">Melyek azok az órák, amelyek kezdési időpontja olyan sávba esik, amely a mostani időpont (óra:perc) után van?</span>\n",
                "\n",
                "1. Listázzuk az órák azonosítóit, valamint az órakezdés napját és időpontját!\n",
                "2. A listát rendezzük az időpont szerint növekvő sorrendbe!"
            ],
            "metadata": {
                "azdata_cell_guid": "4cbf2f0d-a65d-480a-8186-ccdb24498443"
            },
            "attachments": {}
        },
        {
            "cell_type": "code",
            "source": [
                "select o.ora_id,\r\n",
                "    n.nap,\r\n",
                "    s.Időpont,\r\n",
                "    CAST(GETDATE() AS time) as 'jelenlegi_idő'\r\n",
                "from Orak o\r\n",
                "    join Savok s\r\n",
                "        on s.Sav_id = o.Sav\r\n",
                "    join Napok n\r\n",
                "        on n.nap_id = o.nap\r\n",
                "WHERE cast(LEFT(időpont, CHARINDEX('.',időpont)-1)+':'+RIGHT(időpont,2) as time) > CAST(GETDATE() AS time)\r\n",
                "order by s.Időpont Asc"
            ],
            "metadata": {
                "azdata_cell_guid": "c148aee8-bc85-40bf-b80a-a4898a6c05cb",
                "language": "sql"
            },
            "outputs": [
                {
                    "output_type": "display_data",
                    "data": {
                        "text/html": "(12 rows affected)"
                    },
                    "metadata": {}
                },
                {
                    "output_type": "display_data",
                    "data": {
                        "text/html": "Total execution time: 00:00:00.056"
                    },
                    "metadata": {}
                },
                {
                    "output_type": "execute_result",
                    "execution_count": 1,
                    "data": {
                        "application/vnd.dataresource+json": {
                            "schema": {
                                "fields": [
                                    {
                                        "name": "ora_id"
                                    },
                                    {
                                        "name": "nap"
                                    },
                                    {
                                        "name": "Időpont"
                                    },
                                    {
                                        "name": "jelenlegi_idő"
                                    }
                                ]
                            },
                            "data": [
                                {
                                    "ora_id": "179",
                                    "nap": "Csütörtök",
                                    "Időpont": "15.30",
                                    "jelenlegi_idő": "14:39:52.7233333"
                                },
                                {
                                    "ora_id": "180",
                                    "nap": "Csütörtök",
                                    "Időpont": "15.30",
                                    "jelenlegi_idő": "14:39:52.7233333"
                                },
                                {
                                    "ora_id": "188",
                                    "nap": "Csütörtök",
                                    "Időpont": "15.30",
                                    "jelenlegi_idő": "14:39:52.7233333"
                                },
                                {
                                    "ora_id": "192",
                                    "nap": "Hétfő",
                                    "Időpont": "15.30",
                                    "jelenlegi_idő": "14:39:52.7233333"
                                },
                                {
                                    "ora_id": "194",
                                    "nap": "Hétfő",
                                    "Időpont": "15.30",
                                    "jelenlegi_idő": "14:39:52.7233333"
                                },
                                {
                                    "ora_id": "196",
                                    "nap": "Hétfő",
                                    "Időpont": "15.30",
                                    "jelenlegi_idő": "14:39:52.7233333"
                                },
                                {
                                    "ora_id": "210",
                                    "nap": "Hétfő",
                                    "Időpont": "15.30",
                                    "jelenlegi_idő": "14:39:52.7233333"
                                },
                                {
                                    "ora_id": "218",
                                    "nap": "Kedd",
                                    "Időpont": "15.30",
                                    "jelenlegi_idő": "14:39:52.7233333"
                                },
                                {
                                    "ora_id": "211",
                                    "nap": "Hétfő",
                                    "Időpont": "17.00",
                                    "jelenlegi_idő": "14:39:52.7233333"
                                },
                                {
                                    "ora_id": "219",
                                    "nap": "Kedd",
                                    "Időpont": "17.00",
                                    "jelenlegi_idő": "14:39:52.7233333"
                                },
                                {
                                    "ora_id": "212",
                                    "nap": "Hétfő",
                                    "Időpont": "18.30",
                                    "jelenlegi_idő": "14:39:52.7233333"
                                },
                                {
                                    "ora_id": "213",
                                    "nap": "Hétfő",
                                    "Időpont": "20.00",
                                    "jelenlegi_idő": "14:39:52.7233333"
                                }
                            ]
                        },
                        "text/html": "<table><tr><th>ora_id</th><th>nap</th><th>Időpont</th><th>jelenlegi_idő</th></tr><tr><td>179</td><td>Csütörtök</td><td>15.30</td><td>14:39:52.7233333</td></tr><tr><td>180</td><td>Csütörtök</td><td>15.30</td><td>14:39:52.7233333</td></tr><tr><td>188</td><td>Csütörtök</td><td>15.30</td><td>14:39:52.7233333</td></tr><tr><td>192</td><td>Hétfő</td><td>15.30</td><td>14:39:52.7233333</td></tr><tr><td>194</td><td>Hétfő</td><td>15.30</td><td>14:39:52.7233333</td></tr><tr><td>196</td><td>Hétfő</td><td>15.30</td><td>14:39:52.7233333</td></tr><tr><td>210</td><td>Hétfő</td><td>15.30</td><td>14:39:52.7233333</td></tr><tr><td>218</td><td>Kedd</td><td>15.30</td><td>14:39:52.7233333</td></tr><tr><td>211</td><td>Hétfő</td><td>17.00</td><td>14:39:52.7233333</td></tr><tr><td>219</td><td>Kedd</td><td>17.00</td><td>14:39:52.7233333</td></tr><tr><td>212</td><td>Hétfő</td><td>18.30</td><td>14:39:52.7233333</td></tr><tr><td>213</td><td>Hétfő</td><td>20.00</td><td>14:39:52.7233333</td></tr></table>"
                    },
                    "metadata": {}
                }
            ],
            "execution_count": 1
        }
    ]
}